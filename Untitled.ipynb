{
 "cells": [
  {
   "cell_type": "code",
   "execution_count": 140,
   "id": "62618a6f-83e9-4cbe-85eb-43c2ad6e3682",
   "metadata": {},
   "outputs": [],
   "source": [
    "import pandas as pd\n",
    "import re\n",
    "import numpy as np\n",
    "import tensorflow as tf\n",
    "\n",
    "from tensorflow import keras as ks"
   ]
  },
  {
   "cell_type": "code",
   "execution_count": 160,
   "id": "0a7a16db-266e-4f49-baa1-ab7815e3f7ec",
   "metadata": {},
   "outputs": [],
   "source": [
    "def clean_data(text):\n",
    "    text = text.lower()\n",
    "    text = re.sub(r'[^(a-zA-Z0-9)\\s\\*\\+-\\/\\(\\)=&|]','', text)\n",
    "    return text\n",
    "\n",
    "train=pd.read_csv(\"data/train.csv\")\n",
    "train['Body'] = train['Body'].astype('str')\n",
    "train['Body'] = train['Body'].apply(clean_data)\n",
    "\n"
   ]
  },
  {
   "cell_type": "code",
   "execution_count": 161,
   "id": "ba1160cd-d864-4c24-a4f0-c150ee5f5c81",
   "metadata": {},
   "outputs": [],
   "source": [
    "maxlength = 150\n",
    "\n",
    "tokenizer = tf.keras.preprocessing.text.Tokenizer(num_words=10000, filters='!\"#$%&()*+,-./:;=?@[\\\\]^_`{|}~\\t\\n\\r', lower=True, split=\" \")\n",
    "tokenizer.fit_on_texts(train['Body'])\n",
    "\n",
    "train_x = ks.preprocessing.sequence.pad_sequences(tokenizer.texts_to_sequences(train['Body']), maxlen=maxlength)"
   ]
  },
  {
   "cell_type": "code",
   "execution_count": 168,
   "id": "5f2be7ba-86f4-4c0b-a4df-ca280e09c171",
   "metadata": {},
   "outputs": [
    {
     "data": {
      "text/html": [
       "<div>\n",
       "<style scoped>\n",
       "    .dataframe tbody tr th:only-of-type {\n",
       "        vertical-align: middle;\n",
       "    }\n",
       "\n",
       "    .dataframe tbody tr th {\n",
       "        vertical-align: top;\n",
       "    }\n",
       "\n",
       "    .dataframe thead th {\n",
       "        text-align: right;\n",
       "    }\n",
       "</style>\n",
       "<table border=\"1\" class=\"dataframe\">\n",
       "  <thead>\n",
       "    <tr style=\"text-align: right;\">\n",
       "      <th></th>\n",
       "      <th>Id</th>\n",
       "      <th>Title</th>\n",
       "      <th>Body</th>\n",
       "      <th>Tags</th>\n",
       "      <th>CreationDate</th>\n",
       "      <th>Y</th>\n",
       "    </tr>\n",
       "  </thead>\n",
       "  <tbody>\n",
       "    <tr>\n",
       "      <th>0</th>\n",
       "      <td>34552656</td>\n",
       "      <td>Java: Repeat Task Every Random Seconds</td>\n",
       "      <td>i was able to change theme using codethis.requ...</td>\n",
       "      <td>&lt;java&gt;&lt;repeat&gt;</td>\n",
       "      <td>01/01/2016 0:21</td>\n",
       "      <td>LQ_CLOSE</td>\n",
       "    </tr>\n",
       "    <tr>\n",
       "      <th>1</th>\n",
       "      <td>2</td>\n",
       "      <td>NaN</td>\n",
       "      <td>pthe question is very simple, but i just could...</td>\n",
       "      <td>NaN</td>\n",
       "      <td>NaN</td>\n",
       "      <td>NaN</td>\n",
       "    </tr>\n",
       "    <tr>\n",
       "      <th>2</th>\n",
       "      <td>34553034</td>\n",
       "      <td>Why are Java Optionals immutable?</td>\n",
       "      <td>pid like to understand why java 8 optionals we...</td>\n",
       "      <td>&lt;java&gt;&lt;optional&gt;</td>\n",
       "      <td>01/01/2016 2:03</td>\n",
       "      <td>HQ</td>\n",
       "    </tr>\n",
       "    <tr>\n",
       "      <th>3</th>\n",
       "      <td>34553174</td>\n",
       "      <td>Text Overlay Image with Darkened Opacity React...</td>\n",
       "      <td>pi am attempting to overlay a title over an im...</td>\n",
       "      <td>&lt;javascript&gt;&lt;image&gt;&lt;overlay&gt;&lt;react-native&gt;&lt;opa...</td>\n",
       "      <td>01/01/2016 2:48</td>\n",
       "      <td>HQ</td>\n",
       "    </tr>\n",
       "    <tr>\n",
       "      <th>4</th>\n",
       "      <td>34553318</td>\n",
       "      <td>Why ternary operator in swift is so picky?</td>\n",
       "      <td>pthe question is very simple, but i just could...</td>\n",
       "      <td>&lt;swift&gt;&lt;operators&gt;&lt;whitespace&gt;&lt;ternary-operato...</td>\n",
       "      <td>01/01/2016 3:30</td>\n",
       "      <td>HQ</td>\n",
       "    </tr>\n",
       "    <tr>\n",
       "      <th>5</th>\n",
       "      <td>34553755</td>\n",
       "      <td>hide/show fab with scale animation</td>\n",
       "      <td>pim using custom floatingactionmenu. i need to...</td>\n",
       "      <td>&lt;android&gt;&lt;material-design&gt;&lt;floating-action-but...</td>\n",
       "      <td>01/01/2016 5:21</td>\n",
       "      <td>HQ</td>\n",
       "    </tr>\n",
       "    <tr>\n",
       "      <th>6</th>\n",
       "      <td>34554026</td>\n",
       "      <td>Accessing pointer member of the structure usin...</td>\n",
       "      <td>pi have defined integer pointer inside the str...</td>\n",
       "      <td>&lt;c&gt;&lt;pointers&gt;&lt;data-structures&gt;</td>\n",
       "      <td>01/01/2016 6:21</td>\n",
       "      <td>LQ_CLOSE</td>\n",
       "    </tr>\n",
       "    <tr>\n",
       "      <th>7</th>\n",
       "      <td>34554206</td>\n",
       "      <td>How To Disable 2nd Saturday 4th Saturday ,Sund...</td>\n",
       "      <td>i want to disable 2nd saturday 4th saturday,...</td>\n",
       "      <td>&lt;javascript&gt;&lt;jquery&gt;&lt;jquery-ui&gt;</td>\n",
       "      <td>01/01/2016 6:55</td>\n",
       "      <td>LQ_EDIT</td>\n",
       "    </tr>\n",
       "    <tr>\n",
       "      <th>8</th>\n",
       "      <td>34554671</td>\n",
       "      <td>Resizing containers in bootstrap</td>\n",
       "      <td>i am new to bootstrap and i would like to find...</td>\n",
       "      <td>&lt;jquery&gt;&lt;html&gt;&lt;css&gt;&lt;twitter-bootstrap&gt;</td>\n",
       "      <td>01/01/2016 8:32</td>\n",
       "      <td>LQ_EDIT</td>\n",
       "    </tr>\n",
       "    <tr>\n",
       "      <th>9</th>\n",
       "      <td>34554871</td>\n",
       "      <td>Changing Theme in Windows 10 UWP App Programma...</td>\n",
       "      <td>pi was able to change theme using codethis.req...</td>\n",
       "      <td>&lt;c#&gt;&lt;windows-10&gt;&lt;windows-10-mobile&gt;&lt;windows-10...</td>\n",
       "      <td>01/01/2016 9:05</td>\n",
       "      <td>HQ</td>\n",
       "    </tr>\n",
       "  </tbody>\n",
       "</table>\n",
       "</div>"
      ],
      "text/plain": [
       "         Id                                              Title  \\\n",
       "0  34552656             Java: Repeat Task Every Random Seconds   \n",
       "1         2                                                NaN   \n",
       "2  34553034                  Why are Java Optionals immutable?   \n",
       "3  34553174  Text Overlay Image with Darkened Opacity React...   \n",
       "4  34553318         Why ternary operator in swift is so picky?   \n",
       "5  34553755                 hide/show fab with scale animation   \n",
       "6  34554026  Accessing pointer member of the structure usin...   \n",
       "7  34554206  How To Disable 2nd Saturday 4th Saturday ,Sund...   \n",
       "8  34554671                   Resizing containers in bootstrap   \n",
       "9  34554871  Changing Theme in Windows 10 UWP App Programma...   \n",
       "\n",
       "                                                Body  \\\n",
       "0  i was able to change theme using codethis.requ...   \n",
       "1  pthe question is very simple, but i just could...   \n",
       "2  pid like to understand why java 8 optionals we...   \n",
       "3  pi am attempting to overlay a title over an im...   \n",
       "4  pthe question is very simple, but i just could...   \n",
       "5  pim using custom floatingactionmenu. i need to...   \n",
       "6  pi have defined integer pointer inside the str...   \n",
       "7    i want to disable 2nd saturday 4th saturday,...   \n",
       "8  i am new to bootstrap and i would like to find...   \n",
       "9  pi was able to change theme using codethis.req...   \n",
       "\n",
       "                                                Tags     CreationDate  \\\n",
       "0                                     <java><repeat>  01/01/2016 0:21   \n",
       "1                                                NaN              NaN   \n",
       "2                                   <java><optional>  01/01/2016 2:03   \n",
       "3  <javascript><image><overlay><react-native><opa...  01/01/2016 2:48   \n",
       "4  <swift><operators><whitespace><ternary-operato...  01/01/2016 3:30   \n",
       "5  <android><material-design><floating-action-but...  01/01/2016 5:21   \n",
       "6                     <c><pointers><data-structures>  01/01/2016 6:21   \n",
       "7                    <javascript><jquery><jquery-ui>  01/01/2016 6:55   \n",
       "8             <jquery><html><css><twitter-bootstrap>  01/01/2016 8:32   \n",
       "9  <c#><windows-10><windows-10-mobile><windows-10...  01/01/2016 9:05   \n",
       "\n",
       "          Y  \n",
       "0  LQ_CLOSE  \n",
       "1       NaN  \n",
       "2        HQ  \n",
       "3        HQ  \n",
       "4        HQ  \n",
       "5        HQ  \n",
       "6  LQ_CLOSE  \n",
       "7   LQ_EDIT  \n",
       "8   LQ_EDIT  \n",
       "9        HQ  "
      ]
     },
     "execution_count": 168,
     "metadata": {},
     "output_type": "execute_result"
    }
   ],
   "source": [
    "train.head(10)"
   ]
  },
  {
   "cell_type": "code",
   "execution_count": 163,
   "id": "915d1f3a-b431-4789-ac5b-1b8e90e52fe6",
   "metadata": {},
   "outputs": [
    {
     "data": {
      "text/plain": [
       "array([   0,    0,    0,    0,    0,    0,    0,    0,    0,    0,    0,\n",
       "          0,    0,    0,    0,    0,    0,    0,    0,    0,    0,    0,\n",
       "          0,    0,    0,    0,    0,    0,    0,    0,    0,    0,    0,\n",
       "          0,    0,    0,    0,    0,    0,    0,    0,    0,    0,    0,\n",
       "          0,    0,    0,    0,    0,    0,    0,    0,    0,    0,    0,\n",
       "          0,    0,    0,    0,    0,    0,    0,    0,    0,    0,    0,\n",
       "          0,    0,    0,  210,  226,    7,  377,  328,   25,    2,  150,\n",
       "        213,   29,  157,    1,  396,  260,   77,   12,    6,   25,   77,\n",
       "         12,    6,    7,  480, 2019,  284,   82,    1,  178, 3028,  160,\n",
       "         93,   42, 1697,  868,  844,  120,  294,   77,   13,  182,   13,\n",
       "          6,    1,  168,  559,   15,  144,  197,    3,   49,   24,   25,\n",
       "         57,   66,   65,    5,    6,    6,  919,   30,    5,  283,   15,\n",
       "        496,   37,  253,   48,   11,  172,   34,   77,  172,    6,  645,\n",
       "         15,  496, 1647,  312,  919,  246, 7494], dtype=int32)"
      ]
     },
     "execution_count": 163,
     "metadata": {},
     "output_type": "execute_result"
    }
   ],
   "source": [
    "train_x[1]"
   ]
  },
  {
   "cell_type": "code",
   "execution_count": 162,
   "id": "d783c64d-93c8-40d1-b9d7-96efdb03a829",
   "metadata": {},
   "outputs": [
    {
     "data": {
      "text/plain": [
       "array([   0,    0,    0,    0,    0,    0,    0,    0,    0,    0,    0,\n",
       "          0,    0,    0,    0,    0,    0,    0,    0,    0,    0,    0,\n",
       "          0,    0,    0,    0,    0,    0,    0,    0,    0,    0,    0,\n",
       "          0,    0,    0,    0,    0,    0,    0,    0,  210,  226,    7,\n",
       "        377,  328,   25,    2,  150,  213,   29,  157,    1,  396,    4,\n",
       "       1156,  260,    4, 5787,   77,   12,  512,    6,   17,   25,    4,\n",
       "       5787,   77,   12,  512,    6,   17, 1450,    4,  330,    7,  480,\n",
       "       2019,  284,   82,    1,  178, 3028,  160,   93,   42, 1697,  868,\n",
       "        844,  120,  294,    4, 2149,   77,   13,   13,  247,  182,   13,\n",
       "         13,    6,   17, 3097,    1,  168,    4,   26,  559,   15,  144,\n",
       "        197,    3,   49,   24,   25,   57,   66,   65,    5,    6,    6,\n",
       "        919,   30,    5,  283,   15,  496,   37,  253,   48,   11,    4,\n",
       "       2149,  172,   34,  968,  247,   77,  172,    6,   17,   26,  645,\n",
       "         15,  496, 1647,  312,  919,  246,    4], dtype=int32)"
      ]
     },
     "execution_count": 162,
     "metadata": {},
     "output_type": "execute_result"
    }
   ],
   "source": [
    "train_x[4]"
   ]
  },
  {
   "cell_type": "code",
   "execution_count": 11,
   "id": "4130f0c7-2b53-4cd8-87dc-b5faef5247e7",
   "metadata": {},
   "outputs": [],
   "source": [
    "import joblib"
   ]
  },
  {
   "cell_type": "code",
   "execution_count": 12,
   "id": "efca5091-5ee7-4f7a-b4f6-97fab00151a9",
   "metadata": {},
   "outputs": [
    {
     "name": "stdout",
     "output_type": "stream",
     "text": [
      "Metal device set to: Apple M1\n"
     ]
    },
    {
     "name": "stderr",
     "output_type": "stream",
     "text": [
      "2022-08-05 14:53:52.613936: I tensorflow/core/common_runtime/pluggable_device/pluggable_device_factory.cc:305] Could not identify NUMA node of platform GPU ID 0, defaulting to 0. Your kernel may not have been built with NUMA support.\n",
      "2022-08-05 14:53:52.615003: I tensorflow/core/common_runtime/pluggable_device/pluggable_device_factory.cc:271] Created TensorFlow device (/job:localhost/replica:0/task:0/device:GPU:0 with 0 MB memory) -> physical PluggableDevice (device: 0, name: METAL, pci bus id: <undefined>)\n"
     ]
    }
   ],
   "source": [
    "model=joblib.load('model.pkl')"
   ]
  },
  {
   "cell_type": "code",
   "execution_count": 164,
   "id": "5ba28124-995a-49be-8a68-476bab59b419",
   "metadata": {},
   "outputs": [],
   "source": [
    "result=model.predict([train_x[1].tolist()])"
   ]
  },
  {
   "cell_type": "code",
   "execution_count": 165,
   "id": "c3995952-5130-445a-9ea4-29ff5631a199",
   "metadata": {},
   "outputs": [
    {
     "data": {
      "text/plain": [
       "1"
      ]
     },
     "execution_count": 165,
     "metadata": {},
     "output_type": "execute_result"
    }
   ],
   "source": [
    "np.argmax(result)"
   ]
  },
  {
   "cell_type": "code",
   "execution_count": 136,
   "id": "89fc050f-32b1-46a4-91dd-ffa7fd786d1a",
   "metadata": {},
   "outputs": [],
   "source": [
    "arr=[87,574,87,3278,66,87,2429,87,87,87,209,87,9184,872,832,87,574,87,9184,574,87,87,87,237,2804,2642,486,187,383,87,187,486,187,383,87,87,87,779,87,87,3277,83,87,7065,1788,87,87,468,87,1988,42,87,574,87,9184,872,832,87,2450,486,237,422,87,87,1622,87,1988,14,87,209,87,9184,872,378,87,574,87,698,486,237,442,87,87,403,87,1988,14,87,2469,1147,87,2083,11,127,87,87,87,1988,14,87,237,486,237,42,23,87,187,486,187,87,274,87,87,87,87,3277,577,87,247,890,87,574,87,6957,574,87,698,66,87,370,1908,87,437,11,87,263,11,87,819,11,87,349,11,87,87,87,87,12,1635,87]"
   ]
  },
  {
   "cell_type": "code",
   "execution_count": 137,
   "id": "be5af5fa-1fc8-4cbc-87cc-ece5b8372b6e",
   "metadata": {},
   "outputs": [],
   "source": [
    "re=model.predict([arr])"
   ]
  },
  {
   "cell_type": "code",
   "execution_count": 138,
   "id": "e0525099-2e8e-4655-adde-91629dd9b3fb",
   "metadata": {},
   "outputs": [
    {
     "data": {
      "text/plain": [
       "1"
      ]
     },
     "execution_count": 138,
     "metadata": {},
     "output_type": "execute_result"
    }
   ],
   "source": [
    "np.argmax(re)"
   ]
  },
  {
   "cell_type": "code",
   "execution_count": null,
   "id": "0fc69794-d22c-4244-b594-14b37f3cf553",
   "metadata": {},
   "outputs": [],
   "source": []
  }
 ],
 "metadata": {
  "kernelspec": {
   "display_name": "Python 3 (ipykernel)",
   "language": "python",
   "name": "python3"
  },
  "language_info": {
   "codemirror_mode": {
    "name": "ipython",
    "version": 3
   },
   "file_extension": ".py",
   "mimetype": "text/x-python",
   "name": "python",
   "nbconvert_exporter": "python",
   "pygments_lexer": "ipython3",
   "version": "3.9.12"
  }
 },
 "nbformat": 4,
 "nbformat_minor": 5
}
